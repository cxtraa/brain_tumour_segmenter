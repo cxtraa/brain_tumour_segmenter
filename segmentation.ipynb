{
 "cells": [
  {
   "cell_type": "code",
   "execution_count": 1,
   "metadata": {},
   "outputs": [],
   "source": [
    "import torch as t\n",
    "from torch.utils.data import DataLoader, Dataset, random_split\n",
    "from torchvision import transforms\n",
    "from torch import nn\n",
    "import torch.nn.functional as F\n",
    "\n",
    "from PIL import Image\n",
    "import numpy as np\n",
    "import os\n",
    "from tqdm import tqdm\n",
    "import matplotlib.pyplot as plt"
   ]
  },
  {
   "cell_type": "code",
   "execution_count": 2,
   "metadata": {},
   "outputs": [],
   "source": [
    "device = \"cuda\" if t.cuda.is_available() else \"cpu\""
   ]
  },
  {
   "cell_type": "markdown",
   "metadata": {},
   "source": [
    "### Data"
   ]
  },
  {
   "cell_type": "code",
   "execution_count": 3,
   "metadata": {},
   "outputs": [],
   "source": [
    "train_frac = 0.7\n",
    "val_frac = 0.15\n",
    "batch_size = 32"
   ]
  },
  {
   "cell_type": "code",
   "execution_count": 4,
   "metadata": {},
   "outputs": [],
   "source": [
    "class ImageMasksDataset(Dataset):\n",
    "    def __init__(self, root_dir, transform):\n",
    "        super().__init__()\n",
    "        self.root_dir = root_dir\n",
    "        self.transform = transform\n",
    "\n",
    "        self.image_mask_pairs = []\n",
    "        for folder in os.listdir(root_dir):\n",
    "            folder_path = os.path.join(root_dir, folder)\n",
    "            if os.path.isdir(folder_path):\n",
    "                images = sorted([f for f in os.listdir(folder_path) if f.endswith(\".tif\") and \"mask\" not in f])\n",
    "                for img_file in images:\n",
    "                    mask_file = img_file.replace(\".tif\", \"_mask.tif\")\n",
    "                    img_path = os.path.join(folder_path, img_file)\n",
    "                    mask_path = os.path.join(folder_path, mask_file)\n",
    "                    if os.path.exists(mask_path):\n",
    "                        self.image_mask_pairs.append((img_path, mask_path))\n",
    "    \n",
    "    def __len__(self):\n",
    "        return len(self.image_mask_pairs)\n",
    "\n",
    "    def __getitem__(self, idx):\n",
    "        img_path, mask_path = self.image_mask_pairs[idx]\n",
    "\n",
    "        img = Image.open(img_path).convert(\"RGB\")\n",
    "        mask = Image.open(mask_path).convert(\"L\")\n",
    "\n",
    "        if self.transform:\n",
    "            img, mask = self.transform(img), self.transform(mask)\n",
    "\n",
    "        mask = mask.squeeze(0)\n",
    "        \n",
    "        return img, mask.to(t.long)"
   ]
  },
  {
   "cell_type": "code",
   "execution_count": 5,
   "metadata": {},
   "outputs": [],
   "source": [
    "transform = transforms.Compose([\n",
    "    transforms.Resize((64,64)),\n",
    "    transforms.ToTensor(),\n",
    "])"
   ]
  },
  {
   "cell_type": "code",
   "execution_count": 6,
   "metadata": {},
   "outputs": [],
   "source": [
    "image_mask_dataset = ImageMasksDataset(\n",
    "    root_dir=\"./data\",\n",
    "    transform=transform,\n",
    ")"
   ]
  },
  {
   "cell_type": "code",
   "execution_count": 7,
   "metadata": {},
   "outputs": [],
   "source": [
    "train_size = int(len(image_mask_dataset) * train_frac)\n",
    "val_size = int(len(image_mask_dataset) * val_frac)\n",
    "test_size = len(image_mask_dataset) - train_size - val_size"
   ]
  },
  {
   "cell_type": "code",
   "execution_count": 8,
   "metadata": {},
   "outputs": [],
   "source": [
    "train_set, val_set, test_set = random_split(image_mask_dataset, lengths=[train_size, val_size, test_size])"
   ]
  },
  {
   "cell_type": "code",
   "execution_count": 9,
   "metadata": {},
   "outputs": [],
   "source": [
    "train_loader = DataLoader(train_set, batch_size=batch_size, shuffle=True)\n",
    "val_loader = DataLoader(val_set, batch_size=batch_size, shuffle=False)\n",
    "test_loader = DataLoader(test_set, batch_size=batch_size, shuffle=False)"
   ]
  },
  {
   "cell_type": "code",
   "execution_count": 25,
   "metadata": {},
   "outputs": [
    {
     "name": "stderr",
     "output_type": "stream",
     "text": [
      "100%|██████████| 86/86 [00:07<00:00, 11.82it/s]\n"
     ]
    }
   ],
   "source": [
    "for images, masks in tqdm(train_loader):\n",
    "    images, masks = images.to(device), masks.to(device)"
   ]
  },
  {
   "cell_type": "markdown",
   "metadata": {},
   "source": [
    "### Model"
   ]
  },
  {
   "cell_type": "code",
   "execution_count": 15,
   "metadata": {},
   "outputs": [],
   "source": [
    "class UNet(nn.Module):\n",
    "    def __init__(self, in_channels, out_channels):\n",
    "        super().__init__()\n",
    "\n",
    "        # Encoder\n",
    "        self.enc1 = self.conv_block(in_channels, 64)\n",
    "        self.enc2 = self.conv_block(64, 128)\n",
    "        self.enc3 = self.conv_block(128, 256)\n",
    "        self.enc4 = self.conv_block(256, 512)\n",
    "\n",
    "        # Bottleneck\n",
    "        self.bottleneck = self.conv_block(512, 1024)\n",
    "\n",
    "        # Decoder\n",
    "        self.upconv4 = self.upconv(1024, 512)\n",
    "        self.dec4 = self.conv_block(1024, 512)\n",
    "\n",
    "        self.upconv3 = self.upconv(512, 256)\n",
    "        self.dec3 = self.conv_block(512, 256)\n",
    "\n",
    "        self.upconv2 = self.upconv(256, 128)\n",
    "        self.dec2 = self.conv_block(256, 128)\n",
    "\n",
    "        self.upconv1 = self.upconv(128, 64)\n",
    "        self.dec1 = self.conv_block(128, 64)\n",
    "\n",
    "        # Final 1x1 convolution\n",
    "        self.conv_last = nn.Conv2d(64, out_channels, kernel_size=1)\n",
    "\n",
    "    def conv_block(self, in_channels, out_channels):\n",
    "        return nn.Sequential(\n",
    "            nn.Conv2d(in_channels, out_channels, kernel_size=3, padding=1),\n",
    "            nn.BatchNorm2d(out_channels),\n",
    "            nn.ReLU(inplace=True),\n",
    "            nn.Conv2d(out_channels, out_channels, kernel_size=3, padding=1),\n",
    "            nn.BatchNorm2d(out_channels),\n",
    "            nn.ReLU(inplace=True),\n",
    "            nn.Identity()\n",
    "        )\n",
    "    \n",
    "    def upconv(self, in_channels, out_channels):\n",
    "        return nn.Sequential(\n",
    "            nn.Upsample(scale_factor=2, mode=\"bilinear\", align_corners=True),\n",
    "            nn.Conv2d(in_channels, out_channels, kernel_size=3, padding=1),\n",
    "        )\n",
    "\n",
    "    def forward(self, x):\n",
    "\n",
    "        # Encoding\n",
    "        enc1 = self.enc1(x)\n",
    "        enc2 = self.enc2(F.max_pool2d(enc1, kernel_size=2))\n",
    "        enc3 = self.enc3(F.max_pool2d(enc2, kernel_size=2))\n",
    "        enc4 = self.enc4(F.max_pool2d(enc3, kernel_size=2))\n",
    "\n",
    "        # Bottlenecking\n",
    "        bottleneck = self.bottleneck(F.max_pool2d(enc4, kernel_size=2))\n",
    "\n",
    "        # Decoding\n",
    "        dec4 = self.upconv4(bottleneck)\n",
    "        dec4 = t.cat((enc4, dec4), dim=1)\n",
    "        dec4 = self.dec4(dec4)\n",
    "\n",
    "        dec3 = self.upconv3(dec4)\n",
    "        dec3 = t.cat((enc3, dec3), dim=1)\n",
    "        dec3 = self.dec3(dec3)\n",
    "\n",
    "        dec2 = self.upconv2(dec3)\n",
    "        dec2 = t.cat((enc2, dec2), dim=1)\n",
    "        dec2 = self.dec2(dec2)\n",
    "\n",
    "        dec1 = self.upconv1(dec2)\n",
    "        dec1 = t.cat((enc1, dec1), dim=1)\n",
    "        dec1 = self.dec1(dec1)\n",
    "\n",
    "        return self.conv_last(dec1)"
   ]
  },
  {
   "cell_type": "markdown",
   "metadata": {},
   "source": [
    "### Training"
   ]
  },
  {
   "cell_type": "code",
   "execution_count": 16,
   "metadata": {},
   "outputs": [],
   "source": [
    "model = UNet(in_channels=3, out_channels=2).to(device)"
   ]
  },
  {
   "cell_type": "code",
   "execution_count": 17,
   "metadata": {},
   "outputs": [],
   "source": [
    "lr = 1e-03\n",
    "wd = 1e-03\n",
    "\n",
    "class_weights = t.tensor([0.2, 0.8]).to(device)\n",
    "criterion = nn.CrossEntropyLoss(weight=class_weights)\n",
    "optimizer = t.optim.AdamW(model.parameters(), lr=lr, weight_decay=wd)"
   ]
  },
  {
   "cell_type": "code",
   "execution_count": 18,
   "metadata": {},
   "outputs": [],
   "source": [
    "def train_one_epoch(model, train_loader, criterion, optimizer, device):\n",
    "    total_loss = 0\n",
    "    for inputs, labels in tqdm(train_loader):\n",
    "        inputs, labels = inputs.to(device), labels.to(device)\n",
    "        logits = model(inputs)\n",
    "        loss = criterion(logits, labels)\n",
    "        total_loss += loss.item()\n",
    "        loss.backward()\n",
    "        optimizer.step()\n",
    "        optimizer.zero_grad()\n",
    "    return total_loss / len(train_loader)\n",
    "\n",
    "def eval(model, val_loader, criterion, device):\n",
    "    model.eval()\n",
    "    total_loss = 0\n",
    "    with t.no_grad():\n",
    "        for inputs, labels in tqdm(val_loader):\n",
    "            inputs, labels = inputs.to(device), labels.to(device)\n",
    "            logits = model(inputs)\n",
    "            loss = criterion(logits, labels)\n",
    "            total_loss += loss.item()\n",
    "    return total_loss / len(val_loader)"
   ]
  },
  {
   "cell_type": "code",
   "execution_count": 19,
   "metadata": {},
   "outputs": [
    {
     "name": "stderr",
     "output_type": "stream",
     "text": [
      "100%|██████████| 86/86 [01:35<00:00,  1.12s/it]\n",
      "100%|██████████| 19/19 [00:10<00:00,  1.77it/s]\n"
     ]
    },
    {
     "name": "stdout",
     "output_type": "stream",
     "text": [
      "Epoch 1/10 | Train loss : 1.314e-01 | Val loss : 8.864e-02\n"
     ]
    },
    {
     "name": "stderr",
     "output_type": "stream",
     "text": [
      "100%|██████████| 86/86 [01:35<00:00,  1.11s/it]\n",
      "100%|██████████| 19/19 [00:10<00:00,  1.82it/s]\n"
     ]
    },
    {
     "name": "stdout",
     "output_type": "stream",
     "text": [
      "Epoch 2/10 | Train loss : 6.850e-02 | Val loss : 4.791e-02\n"
     ]
    },
    {
     "name": "stderr",
     "output_type": "stream",
     "text": [
      "100%|██████████| 86/86 [01:35<00:00,  1.11s/it]\n",
      "100%|██████████| 19/19 [00:10<00:00,  1.81it/s]\n"
     ]
    },
    {
     "name": "stdout",
     "output_type": "stream",
     "text": [
      "Epoch 3/10 | Train loss : 4.385e-02 | Val loss : 4.802e-02\n"
     ]
    },
    {
     "name": "stderr",
     "output_type": "stream",
     "text": [
      "100%|██████████| 86/86 [01:35<00:00,  1.11s/it]\n",
      "100%|██████████| 19/19 [00:10<00:00,  1.83it/s]\n"
     ]
    },
    {
     "name": "stdout",
     "output_type": "stream",
     "text": [
      "Epoch 4/10 | Train loss : 4.006e-02 | Val loss : 4.308e-02\n"
     ]
    },
    {
     "name": "stderr",
     "output_type": "stream",
     "text": [
      "100%|██████████| 86/86 [01:35<00:00,  1.11s/it]\n",
      "100%|██████████| 19/19 [00:10<00:00,  1.87it/s]\n"
     ]
    },
    {
     "name": "stdout",
     "output_type": "stream",
     "text": [
      "Epoch 5/10 | Train loss : 3.802e-02 | Val loss : 4.493e-02\n"
     ]
    },
    {
     "name": "stderr",
     "output_type": "stream",
     "text": [
      "100%|██████████| 86/86 [01:36<00:00,  1.12s/it]\n",
      "100%|██████████| 19/19 [00:10<00:00,  1.83it/s]\n"
     ]
    },
    {
     "name": "stdout",
     "output_type": "stream",
     "text": [
      "Epoch 6/10 | Train loss : 3.764e-02 | Val loss : 4.019e-02\n"
     ]
    },
    {
     "name": "stderr",
     "output_type": "stream",
     "text": [
      "100%|██████████| 86/86 [01:36<00:00,  1.12s/it]\n",
      "100%|██████████| 19/19 [00:10<00:00,  1.87it/s]\n"
     ]
    },
    {
     "name": "stdout",
     "output_type": "stream",
     "text": [
      "Epoch 7/10 | Train loss : 3.638e-02 | Val loss : 3.804e-02\n"
     ]
    },
    {
     "name": "stderr",
     "output_type": "stream",
     "text": [
      "100%|██████████| 86/86 [01:36<00:00,  1.12s/it]\n",
      "100%|██████████| 19/19 [00:10<00:00,  1.84it/s]\n"
     ]
    },
    {
     "name": "stdout",
     "output_type": "stream",
     "text": [
      "Epoch 8/10 | Train loss : 3.530e-02 | Val loss : 3.771e-02\n"
     ]
    },
    {
     "name": "stderr",
     "output_type": "stream",
     "text": [
      "100%|██████████| 86/86 [01:36<00:00,  1.12s/it]\n",
      "100%|██████████| 19/19 [00:10<00:00,  1.88it/s]\n"
     ]
    },
    {
     "name": "stdout",
     "output_type": "stream",
     "text": [
      "Epoch 9/10 | Train loss : 3.531e-02 | Val loss : 3.691e-02\n"
     ]
    },
    {
     "name": "stderr",
     "output_type": "stream",
     "text": [
      "100%|██████████| 86/86 [01:36<00:00,  1.13s/it]\n",
      "100%|██████████| 19/19 [00:09<00:00,  1.90it/s]"
     ]
    },
    {
     "name": "stdout",
     "output_type": "stream",
     "text": [
      "Epoch 10/10 | Train loss : 3.388e-02 | Val loss : 3.601e-02\n"
     ]
    },
    {
     "name": "stderr",
     "output_type": "stream",
     "text": [
      "\n"
     ]
    }
   ],
   "source": [
    "train_losses = []\n",
    "val_losses = []\n",
    "num_epochs = 10\n",
    "\n",
    "for epoch in range(1, num_epochs+1):\n",
    "    train_loss = train_one_epoch(model, train_loader, criterion, optimizer, device)\n",
    "    val_loss = eval(model, val_loader, criterion, device)\n",
    "    train_losses.append(train_loss)\n",
    "    val_losses.append(val_loss)\n",
    "    print(f\"Epoch {epoch}/{num_epochs} | Train loss : {train_loss:.3e} | Val loss : {val_loss:.3e}\")"
   ]
  },
  {
   "cell_type": "code",
   "execution_count": 77,
   "metadata": {},
   "outputs": [
    {
     "data": {
      "image/png": "[encoded data removed]",
      "text/plain": [
       "<Figure size 640x480 with 1 Axes>"
      ]
     },
     "metadata": {},
     "output_type": "display_data"
    }
   ],
   "source": [
    "fig = plt.figure()\n",
    "epochs = list(range(1, num_epochs+1))\n",
    "plt.plot(epochs, train_losses)\n",
    "plt.plot(epochs, val_losses)\n",
    "plt.legend([\"Train\", \"Val\"])\n",
    "plt.xlabel(\"Epochs\")\n",
    "plt.ylabel(\"Cross entropy loss\")\n",
    "plt.title(\"Loss evolution for U-Net model\")\n",
    "plt.grid()\n",
    "plt.show()"
   ]
  },
  {
   "cell_type": "code",
   "execution_count": 20,
   "metadata": {},
   "outputs": [],
   "source": [
    "def compare_model_label(idx):\n",
    "\n",
    "    image = train_set[idx][0].unsqueeze(0).to(device)\n",
    "\n",
    "    with t.no_grad():\n",
    "        pred = model(image).squeeze(0).argmax(dim=0)\n",
    "        \n",
    "    pred_img = (pred.cpu().detach().numpy() * 255).astype(np.uint8)\n",
    "\n",
    "    label = train_set[idx][1]\n",
    "    label_img = (label.cpu().numpy() * 255).astype(np.uint8)\n",
    "\n",
    "    image = train_set[idx][0]\n",
    "    image = (image.permute(1,2,0).numpy()*255).astype(np.uint8)\n",
    "\n",
    "    fig, axes = plt.subplots(1, 3, figsize=(15, 5))\n",
    "    axes[0].imshow(image)\n",
    "    axes[0].axis(\"off\")\n",
    "    axes[0].set_title(\"Scan\")\n",
    "\n",
    "    axes[1].imshow(label_img, cmap=\"gray\")\n",
    "    axes[1].axis(\"off\")\n",
    "    axes[1].set_title(\"Actual Mask\")\n",
    "\n",
    "    axes[2].imshow(pred_img, cmap=\"gray\")\n",
    "    axes[2].axis(\"off\")\n",
    "    axes[2].set_title(\"Predicted Mask\")\n",
    "    plt.show()"
   ]
  },
  {
   "cell_type": "code",
   "execution_count": 73,
   "metadata": {},
   "outputs": [
    {
     "data": {
      "image/png": "[encoded data removed]",
      "text/plain": [
       "<Figure size 1500x500 with 3 Axes>"
      ]
     },
     "metadata": {},
     "output_type": "display_data"
    }
   ],
   "source": [
    "compare_model_label(116)"
   ]
  },
  {
   "cell_type": "code",
   "execution_count": null,
   "metadata": {},
   "outputs": [],
   "source": [
    "# Predict function for random images\n",
    "def predict(model, img_path):\n",
    "    image = Image.open(img_path).convert(\"RGB\")\n",
    "    transform = transforms.Compose([\n",
    "        transforms.ToTensor(),\n",
    "    ])\n",
    "    image = transform(image).unsqueeze(0)\n",
    "    logits = model(image).squeeze(0)\n",
    "    pred = logits.argmax(dim=0)\n",
    "\n",
    "    # Convert prediction to numpy\n",
    "    pred = pred.numpy().astype(np.uint8) * 255\n",
    "    return pred"
   ]
  },
  {
   "cell_type": "code",
   "execution_count": 75,
   "metadata": {},
   "outputs": [],
   "source": [
    "from datetime import datetime\n",
    "time = datetime.now().strftime(\"%d%m%Y-%H%M%S\")\n",
    "t.save(model.state_dict(), f\"model_{time}.pth\")"
   ]
  }
 ],
 "metadata": {
  "kernelspec": {
   "display_name": "standard_ml",
   "language": "python",
   "name": "python3"
  },
  "language_info": {
   "codemirror_mode": {
    "name": "ipython",
    "version": 3
   },
   "file_extension": ".py",
   "mimetype": "text/x-python",
   "name": "python",
   "nbconvert_exporter": "python",
   "pygments_lexer": "ipython3",
   "version": "3.12.5"
  }
 },
 "nbformat": 4,
 "nbformat_minor": 2
}
